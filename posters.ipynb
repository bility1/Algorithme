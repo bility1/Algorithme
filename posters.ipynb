{
 "cells": [
  {
   "cell_type": "markdown",
   "metadata": {},
   "source": [
    "\n",
    "# Des posters enrichissants\n",
    "\n",
    "\n",
    "## Description du problème\n",
    "\n",
    "\n",
    "Un étudiant arpente les couloirs du [LIFO](http://www.univ-orleans.fr/lifo/) (le Laboratoire d'Informatique Fondamentale d'Orléans) où sont exposés de magnifiques posters, réalisés par des chercheurs du laboratoire. En voici trois exemples :\n",
    "\n",
    "<table style=\"width:100%\">\n",
    "  <tr>\n",
    "    <th><img alt=\"exemple poster 1\" src=\"http://www.univ-orleans.fr/lifo/Members/Mathieu.Liedloff/temp/analgo/posters/mc.jpg\" width=\"235\"></th>\n",
    "    <th><img alt=\"exemple poster 1\" src=\"http://www.univ-orleans.fr/lifo/Members/Mathieu.Liedloff/temp/analgo/posters/ap.jpg\" width=\"235\"></th>\n",
    "    <th><img alt=\"exemple poster 1\" src=\"http://www.univ-orleans.fr/lifo/Members/Mathieu.Liedloff/temp/analgo/posters/ms.jpg\" width=\"235\"></th>\n",
    "  </tr>\n",
    "</table> \n",
    "\n",
    "<BR>\n",
    "<div class=\"alert alert-info\">\n",
    "Pour abstraire le problème, nous notons $n$ le nombre total de posters présentés dans les couloirs. Ces posters sont numérotés $p_1, p_2, \\dots , p_n$. Chaque poster $p_i$ ($i \\in \\{1,2, \\dots, n \\}$) demande un *temps de lecture* $t_i$ et apporte un *enrichissement intellectuel* $e_i$.\n",
    "</div>\n",
    "\n",
    "Un étudiant arrive $m$ minutes en avance pour un rendez-vous avec un enseignant-chercheur. Il se demande quels posters il devrait lire. Son objectif est de maximiser son enrichissement intellectuel tout en ne dépassant pas les $m$ minutes de lecture. S'il dépasse les $m$ minutes de lecture, il rate son rendez-vous. Il faut donc l'aider à bien choisir les posters.\n",
    "\n",
    "Voici un exemple d'instance du problème :"
   ]
  },
  {
   "cell_type": "code",
   "execution_count": 59,
   "metadata": {},
   "outputs": [],
   "source": [
    "n = 25 # nombre de posters affichés dans les couloirs\n",
    "# temps  de lecture et enrichissement de chaque poster (t[k],e[k] sont les info pour le poster k)\n",
    "t = [16, 15, 26, 36, 12, 13, 35, 25, 22, 7, 13, 15, 25, 14, 26, 17, 25, 13, 12, 11, 22, 33, 15, 13, 15]\n",
    "e = [15, 9, 7, 18, 14, 15, 16, 18, 8, 14, 8, 11, 8, 3, 9, 15, 19, 1, 2, 3, 3, 13, 13, 14, 2]\n",
    "m = 70 # nombre de minutes avant le rendez-vous"
   ]
  },
  {
   "cell_type": "markdown",
   "metadata": {},
   "source": [
    "## Résolution du problème: une approche récursive\n",
    "\n",
    "\n",
    "Comme première approche, on voudrait résoudre le problème *récursivement*.\n",
    "Notons `ResolPoster(t,e,i,tps)` la fonction qui attend en paramètre:\n",
    "- une liste `t` des temps de lecture des posters;\n",
    "- une liste `e` représentant l'enrichissement intellectuel des posters;\n",
    "- un entier `i` compris entre $0$ et le nombre $n$ de posters;\n",
    "- un entier `tps` compris entre $0$ et le temps $m$ disponible pour la lecture.\n",
    "\n",
    "La fonction `ResolPoster` doit retourner la valeur maximum de l'enrichissement intellectuel  si on se restreint aux `i` premiers posters et qu’on s’autorise un temps maximimum de lecture `tps`.\n",
    "\n",
    "Pour écrire cette fonction, intéressez-vous aux questions suivantes :\n",
    "1. Que devrait retourner `ResolPoster(t,e,i,tps)` lorsque `i = 0` ?\n",
    "2. Que devrait retourner `ResolPoster(t,e,i,tps)` lorsque `tps = 0` ?\n",
    "3. Si on suppose `i > 0` et `tps > 0`, établir la valeur qui devrait être retournée. Pour calculer cette valeur, des appels récursifs à `ResolPoster` sont certainement nécessaires, mais avec quels paramètres pour `i` et pour `tps` lors de ces appels ?\n",
    "\n",
    "\n",
    "<div class=\"alert alert-danger\" role=\"alert\">\n",
    "Une fois ces questions en tête, écrivez en Python la fonction `ResolPoster`. Un appel à `ResolPoster(t,e,n,m)` devrait retourner une solution optimale au problème.\n",
    "Pour l'instance précédente, nous obtenons 76. Et vous, qu'obtenez-vous ?\n",
    "</div>"
   ]
  },
  {
   "cell_type": "code",
   "execution_count": 60,
   "metadata": {},
   "outputs": [
    {
     "name": "stdout",
     "output_type": "stream",
     "text": [
      "76\n"
     ]
    }
   ],
   "source": [
    "def ResolPoster(t,e,i,tps):\n",
    "    d = i-1\n",
    "    if i == 0 or tps == 0:\n",
    "        return 0\n",
    "    else:\n",
    "        if t[d] > tps :\n",
    "            return (ResolPoster(t,e,i-1,tps))\n",
    "        else:\n",
    "            return max (ResolPoster(t,e,i-1,tps-t[d])+e[d],ResolPoster(t,e,i-1,tps))\n",
    "print(ResolPoster(t,e,n,m))"
   ]
  },
  {
   "cell_type": "markdown",
   "metadata": {},
   "source": [
    "La version récursive calcule une solution correcte au problème, mais elle souffre de lenteur car un même sous-problème peut être plusieurs fois résolus. Cela se traduit par de multiples appels à `ResolPoster` avec des paramètres identiques.\n",
    "\n",
    "<div class=\"alert alert-danger\" role=\"alert\">\n",
    "Modifiez votre fonction `ResolPoster` pour qu'elle compte le nombre de fois qu'elle s'exécute avec les paramètres $i=8$ et $tps=20$ lorsqu'elle est appelée sur les paramètres `t`, `e`, `n` et `m` de l'instance donnée en exemple. Remarquons que les deux paramaètres `t` et `e` ne sont jamais modifiés lors des appels récursifs. Nous appelons `ResolPosterCpt` cette nouvelle fonction modifiée.\n",
    "</div>"
   ]
  },
  {
   "cell_type": "code",
   "execution_count": 61,
   "metadata": {},
   "outputs": [
    {
     "name": "stdout",
     "output_type": "stream",
     "text": [
      "54\n"
     ]
    }
   ],
   "source": [
    "cpt = 0\n",
    "def ResolPosterCpt(t,e,i,tps):\n",
    "    d = i-1\n",
    "    global cpt\n",
    "    if i==8 and tps==20:\n",
    "        cpt +=1\n",
    "        \n",
    "    if i == 0 or tps == 0:\n",
    "        return 0\n",
    "    else:\n",
    "        if t[d] > tps :\n",
    "            return (ResolPosterCpt(t,e,i-1,tps))\n",
    "            \n",
    "        else:\n",
    "            return max (ResolPosterCpt(t,e,i-1,tps-t[d])+e[d],ResolPosterCpt(t,e,i-1,tps))\n",
    "\n",
    "\n",
    "ResolPosterCpt(t,e,n,m)\n",
    "print(cpt)"
   ]
  },
  {
   "cell_type": "markdown",
   "metadata": {},
   "source": [
    "## Résolution du problème: une approche itérative\n",
    "\n",
    "Afin de ne pas recalculer plusieurs fois la solution à un même sous-problèmes, on propose d'utiliser et de compléter un tableau `Opt` à deux dimension, où `Opt[i,tps]` (pour $ 0 \\leq i \\leq n$ et $0 \\leq tps \\leq m$). Ce tableau stocke la valeur maximum de l'enrichissement intellectuel qu'il est possible d’obtenir si l'on se restreint aux $i$ premiers posters ($p_1, p_2, \\dots, p_i$) et qu’on s’autorise un temps maximimum de lecture $tps$.\n",
    "\n",
    "Voici quelques questions à se poser :\n",
    "\n",
    "1. Quelle valeur devrait être stockée dans `Opt[i, tps]` lorsque $i = 0$ ?\n",
    "2. Quelle valeur devrait être stockée dans `Opt[i, tps]` lorsque $tps = 0$ ?\n",
    "3. Supposons maintenant que $i > 0$ et $tps > 0$. Établir une formule (de récurrence) qui donne la valeur de `Opt[i,tps]` en fonction de $t[i]$, de $e[i]$ et de `Opt[i′,tps′]` pour des valeurs plus petites de $i'$ et/ou de $tps'$ ?\n",
    "\n",
    "\n",
    "<div class=\"alert alert-danger\" role=\"alert\">\n",
    "Écrire un algorithme qui prend en entrée le nombre $n$ de posters, les listes $t$ et $e$, le temps d’avance $m$ de l’étudiant, puis qui retourne la valeur maximum de l’enrichissement intellectuel qu’il est possible d’obtenir. Pour mettre au point votre fonction, vous pouvez vérifier que le résultat est le même que celui de la fonction récursive préalablement programmée.\n",
    "</div>"
   ]
  },
  {
   "cell_type": "code",
   "execution_count": 116,
   "metadata": {},
   "outputs": [
    {
     "name": "stdout",
     "output_type": "stream",
     "text": [
      "76\n"
     ]
    }
   ],
   "source": [
    "def poster(n,t,e,m):\n",
    "    Opt=[[0 for _ in range (m+1)]for _ in range (n+1)]\n",
    "    \n",
    "    for i in range (1,n+1):\n",
    "        for tps in range (1,m+1):\n",
    "            d=i-1\n",
    "            if t[d] > tps:\n",
    "                Opt[i][tps] = Opt[d][tps]\n",
    "            else:\n",
    "                Opt[i][tps] = max(Opt[d][tps],Opt[d][tps-t[d]]+e[d])\n",
    "    return Opt[i][tps]            \n",
    "print (poster(n,t,e,m))"
   ]
  },
  {
   "cell_type": "markdown",
   "metadata": {},
   "source": [
    "<div class=\"alert alert-danger\" role=\"alert\">\n",
    "Évaluer le temps d’exécution de l'algorithme correspondant à votre fonction `poster`.\n",
    "</div>"
   ]
  },
  {
   "cell_type": "markdown",
   "metadata": {},
   "source": [
    "Temps d'éxécution : O(n*m)"
   ]
  },
  {
   "cell_type": "markdown",
   "metadata": {},
   "source": [
    "<div class=\"alert alert-danger\" role=\"alert\">\n",
    "Ecrivez une fonction `posterContructif`, qui reprend le code de votre fonction `poster` mais qui retourne également les numéros des posters à lire (et non seulement la valeur de l'enrichissement intellectuel).\n",
    "</div>"
   ]
  },
  {
   "cell_type": "code",
   "execution_count": 127,
   "metadata": {},
   "outputs": [
    {
     "name": "stdout",
     "output_type": "stream",
     "text": [
      "([4, 5, 9, 16, 23], 76)\n"
     ]
    }
   ],
   "source": [
    "def posterContructif(n,t,e,m):\n",
    "    Opt=[[0 for _ in range (m+1)]for _ in range (n+1)]\n",
    "    aLire=[[[] for _ in range (m+1)]for _ in range (n+1)]\n",
    "    for i in range (1,n+1):\n",
    "        for tps in range (1,m+1):\n",
    "            d=i-1\n",
    "            if t[d] > tps:\n",
    "                Opt[i][tps] = Opt[d][tps]\n",
    "                aLire[i][tps] = list (aLire[d][tps])\n",
    "                \n",
    "            else:\n",
    "                Opt[i][tps] = max(Opt[d][tps],Opt[d][tps-t[d]]+e[d])\n",
    "                if max(Opt[d][tps],Opt[d][tps-t[d]]+e[d])==Opt[d][tps]:\n",
    "                    aLire[i][tps] = list (aLire[d][tps])\n",
    "                else:\n",
    "                    aLire[i][tps] = list (aLire[d][tps-t[d]])\n",
    "                    aLire[i][tps].append(d)\n",
    "                    \n",
    "    return (aLire[i][tps],Opt[i][tps])  \n",
    "print(posterContructif(n,t,e,m))"
   ]
  },
  {
   "cell_type": "markdown",
   "metadata": {},
   "source": [
    "## Plus loin en Python avec les décorateurs\n",
    "\n",
    "Un **décorateur** est une fonction qui prend en paramètre une autre fonction et qui étend son comportement, sans la modifier. Cela est possible en Python car les fonctions sont des *objets de première classe*: elles peuvent être passées en paramètre (comme le sont les listes, les entiers, les chaînes de caractères ...) à d'autres fonctions. Il est même possible en Python qu'une fonction retourne une fonction. En voici un exemple, où l'on a défini trois fonctions à l'intérieur d'une fonction. Notez que nous avons écrit `return premier` sans parenthèse (ce n'est donc pas un appel de fonction mais bien la fonction qui est retournée)."
   ]
  },
  {
   "cell_type": "code",
   "execution_count": null,
   "metadata": {},
   "outputs": [],
   "source": [
    "def neveuxPicsou(num):\n",
    "    def premier():\n",
    "        return \"Salut, je suis Riri.\"\n",
    "\n",
    "    def second():\n",
    "        return \"Bonjour, mon nom est Fifi !\"\n",
    "    \n",
    "    def troisieme():\n",
    "        return \"Je me prénomme Loulou.\"\n",
    "\n",
    "    if num == 1:\n",
    "        return premier\n",
    "    elif num == 2:\n",
    "        return second\n",
    "    else:\n",
    "        return troisieme"
   ]
  },
  {
   "cell_type": "code",
   "execution_count": null,
   "metadata": {},
   "outputs": [],
   "source": [
    "# on obtient une fonction :\n",
    "neveuxPicsou(2)"
   ]
  },
  {
   "cell_type": "code",
   "execution_count": null,
   "metadata": {},
   "outputs": [],
   "source": [
    "# un appel de fonction\n",
    "neveuxPicsou(2)()"
   ]
  },
  {
   "cell_type": "markdown",
   "metadata": {},
   "source": [
    "Lisez maintenant le code suivant :"
   ]
  },
  {
   "cell_type": "code",
   "execution_count": null,
   "metadata": {},
   "outputs": [],
   "source": [
    "def monDecorateur(func):\n",
    "    def wrapper():\n",
    "        print(\"Avant l'appel de fonction.\")\n",
    "        func()\n",
    "        print(\"Après l'appel de fonction.\")\n",
    "    return wrapper\n",
    "\n",
    "def sayHello():\n",
    "    print(\"Hello !\")\n",
    "\n",
    "# puis décorons la fonction sayHello pour redéfinir sayHello\n",
    "sayHello = monDecorateur(sayHello)"
   ]
  },
  {
   "cell_type": "code",
   "execution_count": null,
   "metadata": {},
   "outputs": [],
   "source": [
    "# sayHello désigne maintenant la fonction interne wrapper()\n",
    "sayHello()"
   ]
  },
  {
   "cell_type": "markdown",
   "metadata": {},
   "source": [
    "**Sucre syntaxique.** Python propose une façon encore plus commode de définir un décorateur. Regardez l'utilisation de `@...` avant la définition de fonction `sayHello` :"
   ]
  },
  {
   "cell_type": "code",
   "execution_count": null,
   "metadata": {},
   "outputs": [],
   "source": [
    "def monDecorateur(func):\n",
    "    def wrapper():\n",
    "        print(\"Avant l'appel de fonction.\")\n",
    "        func()\n",
    "        print(\"Après l'appel de fonction.\")\n",
    "    return wrapper\n",
    "\n",
    "# la ligne ci-dessous décore la fonction sayHello\n",
    "@monDecorateur\n",
    "def sayHello():\n",
    "    print(\"Hello !\")\n",
    "\n",
    "sayHello()"
   ]
  },
  {
   "cell_type": "markdown",
   "metadata": {},
   "source": [
    "** Décorer une fonction ayant des paramètres.** Supposons maintenant que `sayHello` prenne un argument. La solution suivante ne marche pas :"
   ]
  },
  {
   "cell_type": "code",
   "execution_count": 4,
   "metadata": {},
   "outputs": [
    {
     "ename": "TypeError",
     "evalue": "wrapper() takes 0 positional arguments but 2 were given",
     "output_type": "error",
     "traceback": [
      "\u001b[0;31m---------------------------------------------------------------------------\u001b[0m",
      "\u001b[0;31mTypeError\u001b[0m                                 Traceback (most recent call last)",
      "\u001b[0;32m<ipython-input-4-d40ff103bce4>\u001b[0m in \u001b[0;36m<module>\u001b[0;34m()\u001b[0m\n\u001b[1;32m     11\u001b[0m     \u001b[0mprint\u001b[0m\u001b[0;34m(\u001b[0m\u001b[0;34m\"Hello %s %s!\"\u001b[0m\u001b[0;34m%\u001b[0m\u001b[0;34m(\u001b[0m\u001b[0mprenom\u001b[0m\u001b[0;34m,\u001b[0m \u001b[0mnom\u001b[0m\u001b[0;34m)\u001b[0m\u001b[0;34m)\u001b[0m\u001b[0;34m\u001b[0m\u001b[0m\n\u001b[1;32m     12\u001b[0m \u001b[0;34m\u001b[0m\u001b[0m\n\u001b[0;32m---> 13\u001b[0;31m \u001b[0msayHello\u001b[0m\u001b[0;34m(\u001b[0m\u001b[0;34m\"Bob\"\u001b[0m\u001b[0;34m,\u001b[0m\u001b[0;34m\"Morane\"\u001b[0m\u001b[0;34m)\u001b[0m\u001b[0;34m\u001b[0m\u001b[0m\n\u001b[0m",
      "\u001b[0;31mTypeError\u001b[0m: wrapper() takes 0 positional arguments but 2 were given"
     ]
    }
   ],
   "source": [
    "def monDecorateur(func):\n",
    "    def wrapper():\n",
    "        print(\"Avant l'appel de fonction.\")\n",
    "        func()\n",
    "        print(\"Après l'appel de fonction.\")\n",
    "    return wrapper\n",
    "\n",
    "# la ligne ci-dessous décore la fonction sayHello\n",
    "@monDecorateur\n",
    "def sayHello(prenom, nom, ):\n",
    "    print(\"Hello %s %s!\"%(prenom, nom))\n",
    "\n",
    "sayHello(\"Bob\",\"Morane\")"
   ]
  },
  {
   "cell_type": "markdown",
   "metadata": {},
   "source": [
    "Observez maintenant l'écriture de la fonction `wrapper` qui récupère bien tous les paramètres pour les donner ensuite à la fonction `func` (la fonction `func` est le paramètre de `monDecorateur`):"
   ]
  },
  {
   "cell_type": "code",
   "execution_count": 6,
   "metadata": {},
   "outputs": [
    {
     "name": "stdout",
     "output_type": "stream",
     "text": [
      "Avant l'appel de fonction.\n",
      "Hello Bob Morane!\n",
      "Après l'appel de fonction.\n"
     ]
    }
   ],
   "source": [
    "def monDecorateur(func):\n",
    "    def wrapper(param1, param2):\n",
    "        print(\"Avant l'appel de fonction.\")\n",
    "        func(param1, param2)\n",
    "        print(\"Après l'appel de fonction.\")\n",
    "    return wrapper\n",
    "\n",
    "# la ligne ci-dessous décore la fonction sayHello\n",
    "@monDecorateur\n",
    "def sayHello(prenom, nom, ):\n",
    "    print(\"Hello %s %s!\"%(prenom, nom))\n",
    "\n",
    "sayHello(\"Bob\",\"Morane\")"
   ]
  },
  {
   "cell_type": "markdown",
   "metadata": {},
   "source": [
    "Nous savons maintenant décorer une fonction qui attend des paramètres.\n",
    "\n",
    "**Comment retourner le résultat d'une fonction décorée ?** Observez plutôt :"
   ]
  },
  {
   "cell_type": "code",
   "execution_count": 7,
   "metadata": {},
   "outputs": [
    {
     "name": "stdout",
     "output_type": "stream",
     "text": [
      "Avant l'appel de fonction.\n",
      "Hello Bob Morane!\n",
      "Après l'appel de fonction, on retourne le résultat.\n"
     ]
    },
    {
     "data": {
      "text/plain": [
       "'fin !'"
      ]
     },
     "execution_count": 7,
     "metadata": {},
     "output_type": "execute_result"
    }
   ],
   "source": [
    "def monDecorateur(func):\n",
    "    def wrapper(param1, param2):\n",
    "        print(\"Avant l'appel de fonction.\")\n",
    "        res = func(param1, param2)\n",
    "        print(\"Après l'appel de fonction, on retourne le résultat.\")\n",
    "        return res\n",
    "    return wrapper\n",
    "\n",
    "# la ligne ci-dessous décore la fonction sayHello\n",
    "@monDecorateur\n",
    "def sayHello(prenom, nom, ):\n",
    "    print(\"Hello %s %s!\"%(prenom, nom))\n",
    "    return \"fin !\"\n",
    "\n",
    "sayHello(\"Bob\",\"Morane\")"
   ]
  },
  {
   "cell_type": "markdown",
   "metadata": {},
   "source": [
    "Comme vous l'avez observé, nous avons modifiez le `wrapper` pour qu'il retourne le résultat. Le décorateur pourrait lui aussi se saisir du résultat retourné par la fonction décorée pour y effectuer un traitement supplémentaire. C'est ce que nous allons faire dans la suite."
   ]
  },
  {
   "cell_type": "markdown",
   "metadata": {},
   "source": [
    "# Utilisation d'un cache pour mémoriser les résultats\n",
    "\n",
    "Voici une implémentation récursive simple pour calculer le $n$-ième nombre de la [suite de Fibonacci](https://fr.wikipedia.org/wiki/Suite_de_Fibonacci) :"
   ]
  },
  {
   "cell_type": "code",
   "execution_count": null,
   "metadata": {
    "collapsed": true
   },
   "outputs": [],
   "source": [
    "def fib(n):\n",
    "    if n==1 or n==2:\n",
    "        return 1\n",
    "    else:\n",
    "        return fib(n-1)+fib(n-2)"
   ]
  },
  {
   "cell_type": "markdown",
   "metadata": {},
   "source": [
    "Calculons le 12 ième nombre :"
   ]
  },
  {
   "cell_type": "code",
   "execution_count": null,
   "metadata": {},
   "outputs": [],
   "source": [
    "fib(12)"
   ]
  },
  {
   "cell_type": "markdown",
   "metadata": {},
   "source": [
    "Observons que le calcul de `fib(40)` demande déjà un certain temps (après 1 minute, vous devriez obtenir la réponse, soyez patient ...) :"
   ]
  },
  {
   "cell_type": "code",
   "execution_count": null,
   "metadata": {},
   "outputs": [],
   "source": [
    "fib(40)"
   ]
  },
  {
   "cell_type": "markdown",
   "metadata": {},
   "source": [
    "Après tout, une fonction est un objet comme un autre en Python. On peut donc ajouter un attribut `cpt` à une fonction `foo`, et ainsi utiliser la variable `foo.cpt`."
   ]
  },
  {
   "cell_type": "code",
   "execution_count": null,
   "metadata": {},
   "outputs": [],
   "source": [
    "def foo(ch):\n",
    "    foo.cpt += 1\n",
    "    print(ch)\n",
    "\n",
    "foo.cpt = 0\n",
    "print(foo.cpt)\n",
    "for fruit in [\"banane\", \"melon\", \"pomme\", \"mirabelle\"]:\n",
    "    foo(fruit)\n",
    "print(foo.cpt)"
   ]
  },
  {
   "cell_type": "markdown",
   "metadata": {},
   "source": [
    "<div class=\"alert alert-danger\" role=\"alert\">\n",
    "Écrivez un décorateur `cptRecCall5` qui permettrait de décorer la fonction `fib` et de compter le nombre de fois que `fib` est appelé sur le paramètre $5$ lors d'un appel avec le paramètre $n$.\n",
    "</div>"
   ]
  },
  {
   "cell_type": "code",
   "execution_count": null,
   "metadata": {
    "collapsed": true
   },
   "outputs": [],
   "source": [
    "def cptRecCall5(func):\n",
    "    pass\n",
    "\n",
    "\n",
    "@cptRecCall5\n",
    "def fib(n):\n",
    "    if n==1 or n==2:\n",
    "        return 1\n",
    "    else:\n",
    "        return fib(n-1)+fib(n-2)"
   ]
  },
  {
   "cell_type": "markdown",
   "metadata": {},
   "source": [
    "<div class=\"alert alert-danger\" role=\"alert\">\n",
    "Utilisez votre décorateur pour déterminer combien de fois `fib(5)` est exécuté lors d'un appel à `fib(40)` ?\n",
    "</div>"
   ]
  },
  {
   "cell_type": "code",
   "execution_count": null,
   "metadata": {
    "collapsed": true
   },
   "outputs": [],
   "source": [
    "pass"
   ]
  },
  {
   "cell_type": "markdown",
   "metadata": {},
   "source": [
    "réponse : ..."
   ]
  },
  {
   "cell_type": "markdown",
   "metadata": {},
   "source": [
    "Impressionnant ! On re-calcule autant de fois la même chose. Ce serait beaucoup plus astucieux de ne calculer qu'une seule fois le résultat de `fib(5)`.\n",
    "\n",
    "Cette fois-ci, plutôt que d'écrire une version itérative de la fonction `fib`, on souhaite ne pas la modifier, garder la version récursive, et écrire un décorateur qui agirait de la façon suivante :\n",
    "- le décorateur prend une fonction en entrée (par exemple `fib`);\n",
    "- le décorateur maintient un *cache* à jour;\n",
    "- lorsque la fonction est appelé avec un certain paramètre, le décorateur vérifie si la fonction a déjà été appelée sur ce paramètre;\n",
    "- si c'est le cas, le résultat est extrait du cache et retourné;\n",
    "- si ce n'est pas le cas, la fonction est exécutée sur le paramètre, puis son résultat est stocké dans le cache du décorateur, puis le résultat est retourné.\n",
    "\n",
    "<div class=\"alert alert-danger\" role=\"alert\">\n",
    "Inspirez-vous des décorateurs que nous avons donnés pour créer un décorateur `memoize` qui gérerait un tel cache. Un dictionnaire pourrait être une structure de données adaptée pour stocker les informations du cache.\n",
    "</div>\n",
    "\n",
    "```\n",
    "def monDecorateur(func):\n",
    "    def wrapper(*args, **kwargs):\n",
    "        print(\"Avant l'appel de fonction.\")\n",
    "        res = func(*args, **kwargs)\n",
    "        print(\"Après l'appel de fonction, on retourne le résultat.\")\n",
    "        return res\n",
    "    return wrapper\n",
    "```\n"
   ]
  },
  {
   "cell_type": "code",
   "execution_count": null,
   "metadata": {},
   "outputs": [],
   "source": [
    "def memoize(func):\n",
    "    def wrapper_memoize(*args, **kwargs):\n",
    "        pass\n",
    "        \n",
    "    return wrapper_memoize"
   ]
  },
  {
   "cell_type": "markdown",
   "metadata": {},
   "source": [
    "Une fois le décorateur `memoize` écrit, nous pouvons redéfinir notre fonction fibonnaci. Apprécions aussi la vitesse pour calculer `fib(40)`, alors que la définition de la fonction est restée récursive."
   ]
  },
  {
   "cell_type": "code",
   "execution_count": null,
   "metadata": {},
   "outputs": [],
   "source": [
    "@memoize\n",
    "def fib(n):\n",
    "    if n==1 or n==2:\n",
    "        return 1\n",
    "    else:\n",
    "        return fib(n-1)+fib(n-2)\n",
    "\n",
    "fib(40)"
   ]
  },
  {
   "cell_type": "markdown",
   "metadata": {},
   "source": [
    "*remarque:* Si vous avez utilisez une liste ou un dictionnaire comme cache dans `mémoize`, il est possible de l'afficher (`print(fib.cache)`) ou de le vider (`fib.cache.clear()`).\n"
   ]
  },
  {
   "cell_type": "markdown",
   "metadata": {},
   "source": [
    "## Retour au problème des posters\n",
    "\n",
    "Retournons à la fonction récursive `ResolPoster(t,e,n,m)`. Nous pouvons à présent utiliser le mécanisme de cache en décorant cette fonction avec le décorateur `memoize`."
   ]
  },
  {
   "cell_type": "code",
   "execution_count": null,
   "metadata": {
    "collapsed": true
   },
   "outputs": [],
   "source": [
    "ResolPoster = memoize(ResolPoster)"
   ]
  },
  {
   "cell_type": "markdown",
   "metadata": {},
   "source": [
    "Malheureusement, cela ne fonctionne pas tout à fait comme prévu :"
   ]
  },
  {
   "cell_type": "code",
   "execution_count": null,
   "metadata": {},
   "outputs": [],
   "source": [
    "ResolPoster(t,e,n,m)"
   ]
  },
  {
   "cell_type": "markdown",
   "metadata": {},
   "source": [
    "Manifestement, le problème est que le type `list` ne peut pas être haché; autrement dit, une liste ne peut pas être la clé d'un dictionnaire. Or les paramètres `t` et `e` sont ici des listes."
   ]
  },
  {
   "cell_type": "code",
   "execution_count": null,
   "metadata": {},
   "outputs": [],
   "source": [
    "monDic = dict()\n",
    "monDic[3] = \"chiffre\" # -> OK\n",
    "monDic[\"abc\"] = \"chaîne\" # -> OK\n",
    "monDic[ [1,2,3] ] = \"liste\" # -> pas possible"
   ]
  },
  {
   "cell_type": "markdown",
   "metadata": {},
   "source": [
    "Observons que lors de chaque appel récursif, la liste `t` et la liste `e` données en paramètres à la fonction `ResolPoster` ne sont jamais modifiées. Dès lors, ne pourrait-on pas utiliser seulement les deux derniers paramètres (`i ` et `tps`) comme clés pour le cache du décorateur `memoize` ?\n",
    "\n",
    "<div class=\"alert alert-danger\" role=\"alert\">\n",
    "Écrivez une nouvelle version du décorateur `memoize` qui utiliserait en entrée du cache uniquement les deux derniers paramètres (correspondant donc à `i` et à `tps`, qui sont des entiers, donc hachables).\n",
    "</div>"
   ]
  },
  {
   "cell_type": "code",
   "execution_count": null,
   "metadata": {
    "collapsed": true
   },
   "outputs": [],
   "source": [
    "pass"
   ]
  },
  {
   "cell_type": "markdown",
   "metadata": {},
   "source": [
    "<div class=\"alert alert-danger\" role=\"alert\">\n",
    "Écrivez une nouvelle version du décorateur `memoize`. Celui-ci attendrait en paramètre une liste qui contiendrait les paramètres (hachables) de la fonction décorée. Uniquement les paramètres de cette liste serviraient de clés dans le cache (les autres paramètres seraient ignorés).\n",
    "</div>"
   ]
  },
  {
   "cell_type": "code",
   "execution_count": null,
   "metadata": {
    "collapsed": true
   },
   "outputs": [],
   "source": []
  }
 ],
 "metadata": {
  "kernelspec": {
   "display_name": "Python 3",
   "language": "python",
   "name": "python3"
  },
  "language_info": {
   "codemirror_mode": {
    "name": "ipython",
    "version": 3
   },
   "file_extension": ".py",
   "mimetype": "text/x-python",
   "name": "python",
   "nbconvert_exporter": "python",
   "pygments_lexer": "ipython3",
   "version": "3.6.9"
  }
 },
 "nbformat": 4,
 "nbformat_minor": 2
}
